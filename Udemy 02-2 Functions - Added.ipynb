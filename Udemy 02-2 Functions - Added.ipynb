{
 "cells": [
  {
   "cell_type": "markdown",
   "metadata": {},
   "source": [
    "Logic with Python Functions\n",
    "======================"
   ]
  },
  {
   "cell_type": "markdown",
   "metadata": {},
   "source": [
    "======================"
   ]
  },
  {
   "cell_type": "code",
   "execution_count": 5,
   "metadata": {},
   "outputs": [],
   "source": [
    "# Return True if the number is even\n",
    "\n",
    "def even_check(num):\n",
    "    return num%2==0"
   ]
  },
  {
   "cell_type": "code",
   "execution_count": 6,
   "metadata": {},
   "outputs": [
    {
     "data": {
      "text/plain": [
       "False"
      ]
     },
     "execution_count": 6,
     "metadata": {},
     "output_type": "execute_result"
    }
   ],
   "source": [
    "even_check(345)"
   ]
  },
  {
   "cell_type": "code",
   "execution_count": 8,
   "metadata": {},
   "outputs": [],
   "source": [
    "# return true if there is an even number in a list \n",
    "# return nothing if the list consists of odd numbers\n",
    "\n",
    "def even_check_list(nlist):\n",
    "    \n",
    "    for num in nlist:\n",
    "        if num%2==0:\n",
    "            return True\n",
    "        else:\n",
    "            pass"
   ]
  },
  {
   "cell_type": "code",
   "execution_count": 9,
   "metadata": {},
   "outputs": [
    {
     "data": {
      "text/plain": [
       "True"
      ]
     },
     "execution_count": 9,
     "metadata": {},
     "output_type": "execute_result"
    }
   ],
   "source": [
    "even_check_list([3,4,5,6,7])"
   ]
  },
  {
   "cell_type": "code",
   "execution_count": 10,
   "metadata": {},
   "outputs": [],
   "source": [
    "even_check_list([3,5,7,9])"
   ]
  },
  {
   "cell_type": "code",
   "execution_count": 11,
   "metadata": {},
   "outputs": [],
   "source": [
    "# return true if there is an even number in a list \n",
    "# return false if the list consists of odd numbers\n",
    "\n",
    "def even_check_list(nlist):\n",
    "    \n",
    "    for num in nlist:\n",
    "        if num%2==0:\n",
    "            return True # <-- if there is an even number, the function breaks here\n",
    "        else:\n",
    "            pass\n",
    "    return False # <-- indentation! \n",
    "\n",
    "# if return False was written after else:, instead of pass, \n",
    "# the function will never return False ever. period. "
   ]
  },
  {
   "cell_type": "code",
   "execution_count": 13,
   "metadata": {},
   "outputs": [
    {
     "data": {
      "text/plain": [
       "False"
      ]
     },
     "execution_count": 13,
     "metadata": {},
     "output_type": "execute_result"
    }
   ],
   "source": [
    "even_check_list([3,5,7,9])"
   ]
  },
  {
   "cell_type": "code",
   "execution_count": 16,
   "metadata": {},
   "outputs": [],
   "source": [
    "# return the list of even numbers if there is an even number in a list \n",
    "\n",
    "def return_even_list(nlist):\n",
    "    \n",
    "    even_list=[]\n",
    "    for num in nlist:\n",
    "        if num %2==0:\n",
    "            even_list.append(num)\n",
    "        else:\n",
    "            pass\n",
    "\n",
    "    print(even_list)\n",
    "        \n",
    "            "
   ]
  },
  {
   "cell_type": "code",
   "execution_count": 17,
   "metadata": {},
   "outputs": [
    {
     "name": "stdout",
     "output_type": "stream",
     "text": [
      "[]\n"
     ]
    }
   ],
   "source": [
    "return_even_list([3,5,7,9])"
   ]
  },
  {
   "cell_type": "code",
   "execution_count": 18,
   "metadata": {},
   "outputs": [
    {
     "name": "stdout",
     "output_type": "stream",
     "text": [
      "[2, 4, 6, 8]\n"
     ]
    }
   ],
   "source": [
    "return_even_list([3,5,7,9,2,4,6,8])"
   ]
  },
  {
   "cell_type": "markdown",
   "metadata": {},
   "source": [
    "======================"
   ]
  },
  {
   "cell_type": "markdown",
   "metadata": {},
   "source": [
    "Tuple Unpacking\n",
    "======================"
   ]
  },
  {
   "cell_type": "markdown",
   "metadata": {},
   "source": [
    "======================"
   ]
  },
  {
   "cell_type": "code",
   "execution_count": 20,
   "metadata": {},
   "outputs": [],
   "source": [
    "stock_prices = [('APPL', 125), ('GOOGL', 2380), ('AMZN', 3200)]"
   ]
  },
  {
   "cell_type": "code",
   "execution_count": 21,
   "metadata": {},
   "outputs": [
    {
     "name": "stdout",
     "output_type": "stream",
     "text": [
      "('APPL', 125)\n",
      "('GOOGL', 2380)\n",
      "('AMZN', 3200)\n"
     ]
    }
   ],
   "source": [
    "for item in stock_prices:\n",
    "    print(item)"
   ]
  },
  {
   "cell_type": "code",
   "execution_count": 26,
   "metadata": {},
   "outputs": [
    {
     "name": "stdout",
     "output_type": "stream",
     "text": [
      "137.5\n",
      "137.5\n",
      "2618.0\n",
      "2618.0\n",
      "3520.0\n",
      "3520.0000000000005\n"
     ]
    }
   ],
   "source": [
    "for ticker, price in stock_prices:\n",
    "    #print(ticker) + print('10 percent rises to')  + print(price*1.1)\n",
    "    print(price+(price*0.1))\n",
    "    print(price*1.1)"
   ]
  },
  {
   "cell_type": "code",
   "execution_count": 28,
   "metadata": {},
   "outputs": [
    {
     "name": "stdout",
     "output_type": "stream",
     "text": [
      "APPL 10 percent rises to 137.5\n",
      "GOOGL 10 percent rises to 2618.0\n",
      "AMZN 10 percent rises to 3520.0000000000005\n"
     ]
    }
   ],
   "source": [
    "for ticker, price in stock_prices:\n",
    "    # print(ticker) + print('10 percent rises to')  #+ print(price*1.1)\n",
    "     print(ticker, '10 percent rises to', price*1.1)"
   ]
  },
  {
   "cell_type": "markdown",
   "metadata": {},
   "source": [
    "======================\n",
    "employ of the month"
   ]
  },
  {
   "cell_type": "code",
   "execution_count": 29,
   "metadata": {},
   "outputs": [],
   "source": [
    "hours_worked=[('abby',52),('billy',104),('Cathy',116)]"
   ]
  },
  {
   "cell_type": "code",
   "execution_count": 36,
   "metadata": {},
   "outputs": [],
   "source": [
    "def whours_check(data):\n",
    "    \n",
    "    hours_longest =0\n",
    "    employ_worked_longest=[]\n",
    "    for person,hour in data:\n",
    "        if hour>hours_longest:\n",
    "            hours_longest=hour # THIS WAS MISSING AT FIRST\n",
    "            employ_worked_longest = person\n",
    "        else:\n",
    "            pass\n",
    "    print(\"Employ of the Month: \", employ_worked_longest)\n",
    "    return (employ_worked_longest,hours_longest)\n",
    "            "
   ]
  },
  {
   "cell_type": "code",
   "execution_count": 37,
   "metadata": {},
   "outputs": [
    {
     "name": "stdout",
     "output_type": "stream",
     "text": [
      "Employ of the Month:  Cathy\n"
     ]
    },
    {
     "data": {
      "text/plain": [
       "('Cathy', 116)"
      ]
     },
     "execution_count": 37,
     "metadata": {},
     "output_type": "execute_result"
    }
   ],
   "source": [
    "whours_check(hours_worked)"
   ]
  },
  {
   "cell_type": "code",
   "execution_count": 38,
   "metadata": {},
   "outputs": [
    {
     "name": "stdout",
     "output_type": "stream",
     "text": [
      "Employ of the Month:  Cathy\n"
     ]
    }
   ],
   "source": [
    "name, hours = whours_check(hours_worked)"
   ]
  },
  {
   "cell_type": "code",
   "execution_count": 39,
   "metadata": {},
   "outputs": [
    {
     "data": {
      "text/plain": [
       "'Cathy'"
      ]
     },
     "execution_count": 39,
     "metadata": {},
     "output_type": "execute_result"
    }
   ],
   "source": [
    "name"
   ]
  },
  {
   "cell_type": "code",
   "execution_count": 40,
   "metadata": {},
   "outputs": [
    {
     "data": {
      "text/plain": [
       "116"
      ]
     },
     "execution_count": 40,
     "metadata": {},
     "output_type": "execute_result"
    }
   ],
   "source": [
    "hours"
   ]
  },
  {
   "cell_type": "code",
   "execution_count": 41,
   "metadata": {},
   "outputs": [
    {
     "name": "stdout",
     "output_type": "stream",
     "text": [
      "Employ of the Month:  Cathy\n"
     ]
    },
    {
     "ename": "ValueError",
     "evalue": "not enough values to unpack (expected 3, got 2)",
     "output_type": "error",
     "traceback": [
      "\u001b[0;31m---------------------------------------------------------------------------\u001b[0m",
      "\u001b[0;31mValueError\u001b[0m                                Traceback (most recent call last)",
      "\u001b[0;32m<ipython-input-41-5c7128434ff6>\u001b[0m in \u001b[0;36m<module>\u001b[0;34m\u001b[0m\n\u001b[0;32m----> 1\u001b[0;31m \u001b[0mname\u001b[0m\u001b[0;34m,\u001b[0m \u001b[0mhours\u001b[0m\u001b[0;34m,\u001b[0m \u001b[0mloc\u001b[0m \u001b[0;34m=\u001b[0m \u001b[0mwhours_check\u001b[0m\u001b[0;34m(\u001b[0m\u001b[0mhours_worked\u001b[0m\u001b[0;34m)\u001b[0m\u001b[0;34m\u001b[0m\u001b[0;34m\u001b[0m\u001b[0m\n\u001b[0m",
      "\u001b[0;31mValueError\u001b[0m: not enough values to unpack (expected 3, got 2)"
     ]
    }
   ],
   "source": [
    "name, hours, loc = whours_check(hours_worked)"
   ]
  },
  {
   "cell_type": "markdown",
   "metadata": {},
   "source": [
    "======================"
   ]
  },
  {
   "cell_type": "markdown",
   "metadata": {},
   "source": [
    "Interactions btw Functions\n",
    "======================"
   ]
  },
  {
   "cell_type": "markdown",
   "metadata": {},
   "source": [
    "Three-cup Game"
   ]
  },
  {
   "cell_type": "markdown",
   "metadata": {},
   "source": [
    "======================"
   ]
  },
  {
   "cell_type": "markdown",
   "metadata": {},
   "source": [
    "Control Flow:\n",
    "1. shuffle the cups \n",
    "    -- use random.suffle\n",
    "2. ask for input (guess) \n",
    "    -- require position number\n",
    "    -- transform to integer (input is in string)\n",
    "3. check match"
   ]
  },
  {
   "cell_type": "code",
   "execution_count": 44,
   "metadata": {},
   "outputs": [],
   "source": [
    "def startgame():\n",
    "\n",
    "    position_zero = ['', 'x','']\n",
    "\n",
    "    shuffle(position_zero)\n",
    "    print(\"OK. Ready to start!\")\n",
    "    return position_zero"
   ]
  },
  {
   "cell_type": "code",
   "execution_count": 50,
   "metadata": {},
   "outputs": [
    {
     "name": "stdout",
     "output_type": "stream",
     "text": [
      "OK. Ready to start!\n"
     ]
    }
   ],
   "source": [
    "startgame()"
   ]
  },
  {
   "cell_type": "code",
   "execution_count": 17,
   "metadata": {},
   "outputs": [],
   "source": [
    "from random import shuffle"
   ]
  },
  {
   "cell_type": "code",
   "execution_count": 57,
   "metadata": {},
   "outputs": [
    {
     "data": {
      "text/plain": [
       "['', 'x', '']"
      ]
     },
     "execution_count": 57,
     "metadata": {},
     "output_type": "execute_result"
    }
   ],
   "source": [
    "position_zero"
   ]
  },
  {
   "cell_type": "code",
   "execution_count": 65,
   "metadata": {},
   "outputs": [],
   "source": [
    "position_one=shuffle(position_zero)"
   ]
  },
  {
   "cell_type": "code",
   "execution_count": 66,
   "metadata": {},
   "outputs": [
    {
     "data": {
      "text/plain": [
       "NoneType"
      ]
     },
     "execution_count": 66,
     "metadata": {},
     "output_type": "execute_result"
    }
   ],
   "source": [
    "type(position_one)"
   ]
  },
  {
   "cell_type": "markdown",
   "metadata": {},
   "source": [
    "SHUFFLE does not return anything, even for position_one=shuffle(position_zero). So re-formation through a function is necessary.\n",
    "=="
   ]
  },
  {
   "cell_type": "code",
   "execution_count": 33,
   "metadata": {},
   "outputs": [],
   "source": [
    "def startgame():\n",
    "    from random import shuffle\n",
    "\n",
    "    position_zero = ['', 'x','']\n",
    "\n",
    "    shuffle(position_zero)\n",
    "    print(\"OK. Ready to start!\")\n",
    "    return position_zero"
   ]
  },
  {
   "cell_type": "code",
   "execution_count": 34,
   "metadata": {},
   "outputs": [
    {
     "name": "stdout",
     "output_type": "stream",
     "text": [
      "OK. Ready to start!\n"
     ]
    },
    {
     "data": {
      "text/plain": [
       "['', '', 'x']"
      ]
     },
     "execution_count": 34,
     "metadata": {},
     "output_type": "execute_result"
    }
   ],
   "source": [
    "startgame()"
   ]
  },
  {
   "cell_type": "code",
   "execution_count": 36,
   "metadata": {},
   "outputs": [
    {
     "name": "stdout",
     "output_type": "stream",
     "text": [
      "OK. Ready to start!\n"
     ]
    },
    {
     "data": {
      "text/plain": [
       "2"
      ]
     },
     "execution_count": 36,
     "metadata": {},
     "output_type": "execute_result"
    }
   ],
   "source": [
    "# Check the difference\n",
    "\n",
    "startwith = startgame()\n",
    "startwith.index('x')"
   ]
  },
  {
   "cell_type": "markdown",
   "metadata": {},
   "source": [
    "======================="
   ]
  },
  {
   "cell_type": "code",
   "execution_count": 2,
   "metadata": {},
   "outputs": [],
   "source": [
    "def takeguess():\n",
    "    guess=100\n",
    "    while guess>3:\n",
    "        guess = int(input(\"Choose the position you bet- 1, 2, or 3 from the left?v\"))\n",
    "    \n",
    "    return (guess-1)  \n",
    "\n",
    "#     guess = ''\n",
    "#     while guess not in ['0','1','2']:\n",
    "#         guess = input(\"pick a number: 0,1, or 2\")\n",
    "#     return int(guess)"
   ]
  },
  {
   "cell_type": "code",
   "execution_count": 6,
   "metadata": {},
   "outputs": [
    {
     "name": "stdout",
     "output_type": "stream",
     "text": [
      "Choose the position you bet- 1, 2, or 3 from the left? 1\n"
     ]
    }
   ],
   "source": [
    "input_guess=takeguess()"
   ]
  },
  {
   "cell_type": "code",
   "execution_count": 7,
   "metadata": {},
   "outputs": [
    {
     "data": {
      "text/plain": [
       "0"
      ]
     },
     "execution_count": 7,
     "metadata": {},
     "output_type": "execute_result"
    }
   ],
   "source": [
    "input_guess"
   ]
  },
  {
   "cell_type": "code",
   "execution_count": 41,
   "metadata": {},
   "outputs": [],
   "source": [
    "def win_or_lose():\n",
    "    if input_guess == startwith.index('x'):\n",
    "        print('Great! You win!')\n",
    "    else:\n",
    "        print('Sorry. Would you like to play again?')\n",
    "\n",
    "# def check_guess(mylist, guess):\n",
    "#     if mylist[guess]=='x':\n",
    "#         print('win')\n",
    "#     else:\n",
    "#         print('lose')"
   ]
  },
  {
   "cell_type": "code",
   "execution_count": 44,
   "metadata": {},
   "outputs": [
    {
     "name": "stdout",
     "output_type": "stream",
     "text": [
      "OK. Ready to start!\n",
      "Choose the position you bet- 1, 2, or 3 from the left? 3\n",
      "Great! You win!\n"
     ]
    }
   ],
   "source": [
    "# shuffle the cups -- use random.suffle\n",
    "\n",
    "startwith = startgame()\n",
    "\n",
    "# ask for input (guess) -- require position number -- transform to integer (input is in string)\n",
    "\n",
    "match_guess = takeguess()\n",
    "\n",
    "# check match\n",
    "\n",
    "win_or_lose()"
   ]
  },
  {
   "cell_type": "code",
   "execution_count": null,
   "metadata": {},
   "outputs": [],
   "source": []
  }
 ],
 "metadata": {
  "kernelspec": {
   "display_name": "Python 3",
   "language": "python",
   "name": "python3"
  },
  "language_info": {
   "codemirror_mode": {
    "name": "ipython",
    "version": 3
   },
   "file_extension": ".py",
   "mimetype": "text/x-python",
   "name": "python",
   "nbconvert_exporter": "python",
   "pygments_lexer": "ipython3",
   "version": "3.7.6"
  }
 },
 "nbformat": 4,
 "nbformat_minor": 4
}
